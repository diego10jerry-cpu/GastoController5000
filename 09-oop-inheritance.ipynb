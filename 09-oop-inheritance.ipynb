{
  "cells": [
    {
      "cell_type": "markdown",
      "metadata": {
        "id": "fPrkxbN2JHwc"
      },
      "source": [
        "# Introducción a las ciencias de la computación *y programación en Python*\n",
        "\n",
        "*Banco de Guatemala*  \n",
        "*PES 2025-2026*  \n",
        "*Programación I*  \n",
        "*Septiembre de 2025*  "
      ]
    },
    {
      "cell_type": "markdown",
      "metadata": {
        "id": "-A1UJBibJHwd"
      },
      "source": [
        "## Abstract\n",
        "\n",
        "> \"*I'm not a great programmer*; *I'm just a good programmer with great habits.*\" **Kent Beck**\n",
        "\n",
        "- Programación orientada a objetos.  \n",
        "    - Profundizaremos en un concepto de programación orientada a objetos.  \n",
        "    - Veremos el proceso de **ocultado de información y detalles**.\n",
        "    - Veremos las **variables de clase**.  \n",
        "- Herencia de clases\n",
        "    - Conoceremos el concepto de herencia y cómo puede aplicarse."
      ]
    },
    {
      "cell_type": "markdown",
      "metadata": {
        "id": "3W0PM_1JJHwd"
      },
      "source": [
        "## Implementación vs. utilización\n",
        "\n",
        "* Hemos visto cómo escribir código desde dos perspectivas diferentes:  \n",
        "\n",
        "    - **Implementar** un nuevo tipo de objeto con una clase:\n",
        "        - **Definir** la clase.\n",
        "        \n",
        "        - Definir los **atributos** de la clase. ¿Qué es el objeto?\n",
        "        \n",
        "        - Definir los **métodos** de la clase. ¿Cómo se usa el objeto?\n",
        "        \n",
        "    - **Utilizar** el nuevo tipo de objeto en el código.\n",
        "        - Crear **instancias** del nuevo tipo.\n",
        "        \n",
        "        - Realizar **operaciones** con los objetos.\n",
        "    "
      ]
    },
    {
      "cell_type": "markdown",
      "metadata": {
        "id": "ykgdDZxDJHwe"
      },
      "source": [
        "## Definición del clase\n",
        "\n",
        "- El nombre de la clase es el **tipo**:\n",
        "> `class Coordinate(object)`\n",
        "\n",
        "- La clase está definida genéricamente:\n",
        "    \n",
        "    - Utilizamos `self` para referirnos a una instancia al definir la clase.\n",
        "    > `(self.x–self.y)**2`\n",
        "    \n",
        "    - `self` es un **parámetro** para los métodos en la definición.\n",
        "    \n",
        "- La clase define datos y métodos comunes a través de todas las instancias."
      ]
    },
    {
      "cell_type": "markdown",
      "metadata": {
        "id": "MEhyMLozJHwe"
      },
      "source": [
        "## Instancia de una clase\n",
        "\n",
        "- La instancia es **un objeto específico** de una clase:\n",
        "> `coord = Coordinate(1,2)`\n",
        "\n",
        "- Los atributos de datos varían entre instancias:\n",
        "    > `c1 = Coordinate(1,2)`  \n",
        "    `c2 = Coordinate(3,4)`\n",
        "    \n",
        "    - `c1` y `c2` ¡tienen diferentes coordenadas!\n",
        "    \n",
        "- La instancia **posee la estructura de la clase**."
      ]
    },
    {
      "cell_type": "markdown",
      "metadata": {
        "id": "r3Fta-OUJHwe"
      },
      "source": [
        "# Por qué utilizar OOP y clases de objetos\n",
        "\n",
        "- La idea es copiar el comportamiento de la vida real.\n",
        "\n",
        "- Agrupamos diferentes objetos que son del mismo tipo.\n",
        "\n",
        "![Tipos de animales](https://github.com/PES-BG-2025/notebooks/blob/main/figs/oop/animals.png?raw=1)"
      ]
    },
    {
      "cell_type": "markdown",
      "metadata": {
        "id": "VF_H1SWKJHwe"
      },
      "source": [
        "![Tipos de personas](https://github.com/PES-BG-2025/notebooks/blob/main/figs/oop/person-prototype.png?raw=1)"
      ]
    },
    {
      "cell_type": "markdown",
      "metadata": {
        "id": "ORuyIj1EJHwe"
      },
      "source": [
        "## Grupos de objetos con atributos\n",
        "\n",
        "* **Atributos de datos**\n",
        "    \n",
        "    - ¿Qué son?\n",
        "    \n",
        "    - Para un `Coordinate`: valores $x$ e $y$.\n",
        "    \n",
        "    - Para un `Animal`: *nombre* y *edad*.\n",
        "\n",
        "* **Métodos**\n",
        "    \n",
        "    - ¿Cómo puede alguien interactuar con el objeto?\n",
        "    \n",
        "    - ¿Qué hace?\n",
        "    \n",
        "    - Para un `Coordinate`: *encontrar la distancia entre dos coordenadas*.\n",
        "    \n",
        "    - Para un `Animal`: *hacer un sonido*.\n"
      ]
    },
    {
      "cell_type": "markdown",
      "metadata": {
        "id": "ptQz90RbJHwe"
      },
      "source": [
        "## ¿Cómo definir una clase?\n",
        "\n",
        "Recordemos la sintaxis para definir una clase:"
      ]
    },
    {
      "cell_type": "code",
      "execution_count": 1,
      "metadata": {
        "id": "-DhQ0bZqJHwf"
      },
      "outputs": [],
      "source": [
        "class Animal(object):\n",
        "    def __init__(self, age):  # El atributo name va estar nulo\n",
        "        self.age = age\n",
        "        self.name = None\n",
        "\n",
        "myanimal = Animal(3)"
      ]
    },
    {
      "cell_type": "markdown",
      "metadata": {
        "id": "1gApqt25JHwf"
      },
      "source": [
        "***Señalemos cada una de las partes de este código***"
      ]
    },
    {
      "cell_type": "code",
      "execution_count": 54,
      "metadata": {
        "id": "cQvD9uq0JHwf",
        "outputId": "67422e00-37d6-47b0-b60a-08537266ad83",
        "colab": {
          "base_uri": "https://localhost:8080/"
        }
      },
      "outputs": [
        {
          "output_type": "execute_result",
          "data": {
            "text/plain": [
              "<__main__.Animal at 0x786361990b60>"
            ]
          },
          "metadata": {},
          "execution_count": 54
        }
      ],
      "source": [
        "myanimal"
      ]
    },
    {
      "cell_type": "code",
      "execution_count": 55,
      "metadata": {
        "id": "c2h3vEFxJHwf",
        "outputId": "64d12525-f66b-4379-ee82-c8ee0df439f7",
        "colab": {
          "base_uri": "https://localhost:8080/"
        }
      },
      "outputs": [
        {
          "output_type": "stream",
          "name": "stdout",
          "text": [
            "3\n"
          ]
        }
      ],
      "source": [
        "print(myanimal.age)"
      ]
    },
    {
      "cell_type": "code",
      "execution_count": 56,
      "metadata": {
        "id": "oXKfO0wrJHwg",
        "outputId": "c83dcc4d-13e1-4ccb-af4b-bc00beced228",
        "colab": {
          "base_uri": "https://localhost:8080/"
        }
      },
      "outputs": [
        {
          "output_type": "stream",
          "name": "stdout",
          "text": [
            "None\n"
          ]
        }
      ],
      "source": [
        "print(myanimal.name)"
      ]
    },
    {
      "cell_type": "markdown",
      "metadata": {
        "id": "rAN7sdvKJHwg"
      },
      "source": [
        "## Métodos *getter* y *setter*\n",
        "\n",
        "Es una *buena práctica* utilizar métodos para **modificar** y **obtener** los atributos de datos de una clase.\n",
        "\n",
        "* Estos métodos deben utilizarse **fuera** de la clase para acceder a los atributos."
      ]
    },
    {
      "cell_type": "code",
      "execution_count": 61,
      "metadata": {
        "id": "SGe9BH27JHwg"
      },
      "outputs": [],
      "source": [
        "class Animal(object):\n",
        "    def __init__(self, age):\n",
        "        self.age = age\n",
        "        self.name = None\n",
        "    # Getters\n",
        "    def get_age(self):\n",
        "        return self.age\n",
        "    def get_name(self):\n",
        "        return self.name\n",
        "\n",
        "    # Setters\n",
        "    def set_age(self, newage):\n",
        "        self.age = newage\n",
        "    def set_name(self, newname=\"\"):\n",
        "        self.name = newname\n",
        "\n",
        "    def __str__(self):\n",
        "        return \"animal:\"+str(self.name)+\":\"+str(self.age)"
      ]
    },
    {
      "cell_type": "code",
      "execution_count": 62,
      "metadata": {
        "id": "eV0z__sSJHwg",
        "outputId": "bf473542-b5da-4a3c-f6c9-7e1f81fdc521",
        "colab": {
          "base_uri": "https://localhost:8080/"
        }
      },
      "outputs": [
        {
          "output_type": "stream",
          "name": "stdout",
          "text": [
            "animal:None:4\n"
          ]
        }
      ],
      "source": [
        "a = Animal(4)\n",
        "print(a)"
      ]
    },
    {
      "cell_type": "code",
      "execution_count": 63,
      "metadata": {
        "id": "rgXSsaaaJHwg",
        "outputId": "c8f3b0d9-2077-452b-962c-b12631cd4182",
        "colab": {
          "base_uri": "https://localhost:8080/"
        }
      },
      "outputs": [
        {
          "output_type": "stream",
          "name": "stdout",
          "text": [
            "4\n"
          ]
        }
      ],
      "source": [
        "print(a.get_age())"
      ]
    },
    {
      "cell_type": "code",
      "execution_count": 64,
      "metadata": {
        "id": "T5hOEBNbJHwg",
        "outputId": "646b40c6-c88e-404f-c368-73af512ff7a5",
        "colab": {
          "base_uri": "https://localhost:8080/"
        }
      },
      "outputs": [
        {
          "output_type": "stream",
          "name": "stdout",
          "text": [
            "animal:fluffy:4\n"
          ]
        }
      ],
      "source": [
        "# Cambiamos el nombre\n",
        "a.set_name(\"fluffy\")\n",
        "print(a)"
      ]
    },
    {
      "cell_type": "markdown",
      "metadata": {
        "id": "YtAo0x5wJHwg"
      },
      "source": [
        "## Notación `.`\n",
        "\n",
        "- La instanciación crea una **instancia** de un objeto:"
      ]
    },
    {
      "cell_type": "code",
      "execution_count": 68,
      "metadata": {
        "id": "xhrG6bq3JHwg"
      },
      "outputs": [],
      "source": [
        "a = Animal(3)"
      ]
    },
    {
      "cell_type": "markdown",
      "metadata": {
        "id": "suo3k0OYJHwg"
      },
      "source": [
        "- La notación `.` permite acceder a los atributos (datos y métodos), aunque es **mejor práctica** utilizar métodos para obtener y ajustar estos parámetros."
      ]
    },
    {
      "cell_type": "code",
      "execution_count": 69,
      "metadata": {
        "id": "FbX7PacAJHwg",
        "outputId": "6a64acaf-4f86-4b02-9ab2-c92ab8136f45",
        "colab": {
          "base_uri": "https://localhost:8080/"
        }
      },
      "outputs": [
        {
          "output_type": "execute_result",
          "data": {
            "text/plain": [
              "3"
            ]
          },
          "metadata": {},
          "execution_count": 69
        }
      ],
      "source": [
        "a.age"
      ]
    },
    {
      "cell_type": "code",
      "execution_count": 70,
      "metadata": {
        "id": "vbFHXGatJHwg",
        "outputId": "0fd948c6-b9ed-400f-87cf-87cf1c761b7a",
        "colab": {
          "base_uri": "https://localhost:8080/"
        }
      },
      "outputs": [
        {
          "output_type": "execute_result",
          "data": {
            "text/plain": [
              "3"
            ]
          },
          "metadata": {},
          "execution_count": 70
        }
      ],
      "source": [
        "a.get_age()"
      ]
    },
    {
      "cell_type": "markdown",
      "metadata": {
        "id": "9jYz8SaiJHwg"
      },
      "source": [
        "# Ocultando los detalles: ¿por qué es mejor práctica?\n",
        "\n",
        "- El autor de la definición de la clase **podría querer cambiar el nombre de los atributos**"
      ]
    },
    {
      "cell_type": "code",
      "execution_count": 71,
      "metadata": {
        "id": "XfIwyjuHJHwg"
      },
      "outputs": [],
      "source": [
        "class Animal(object):\n",
        "    def __init__(self, age):\n",
        "        self.years = age\n",
        "    def get_age(self):\n",
        "        return self.years"
      ]
    },
    {
      "cell_type": "markdown",
      "metadata": {
        "id": "hy-F6y53JHwh"
      },
      "source": [
        "**Note la utilización de `self.years` en lugar de `self.age`**\n",
        "\n",
        "- Si se ha cambiado la definición de la clase, al acceder **fuera de la clase** a los atributos, se **podrían obtener errores**.\n",
        "\n",
        "- Es mejor utilizar métodos ***setters*** y ***getters*** como `a.get_age()` y **no** `a.age`\n",
        "    - Mejor estilo.\n",
        "    - Es más fácil mantener el código.\n",
        "    - Previene *bugs*."
      ]
    },
    {
      "cell_type": "markdown",
      "metadata": {
        "id": "BV3cuKv1JHwh"
      },
      "source": [
        "## Ocultando los detalles: Python no es bueno en esto\n",
        "\n",
        "- Python permite **acceder a los datos** fuera de la clase:"
      ]
    },
    {
      "cell_type": "code",
      "execution_count": 77,
      "metadata": {
        "id": "gxVnixOEJHwh",
        "outputId": "14473aca-4161-4074-dcfb-05958a54f287",
        "colab": {
          "base_uri": "https://localhost:8080/"
        }
      },
      "outputs": [
        {
          "output_type": "stream",
          "name": "stdout",
          "text": [
            "infinito\n"
          ]
        }
      ],
      "source": [
        "print(a.age)"
      ]
    },
    {
      "cell_type": "markdown",
      "metadata": {
        "id": "vbWnz30gJHwh"
      },
      "source": [
        "- Permite **escribir los atributos** fuera de la clase directamente:"
      ]
    },
    {
      "cell_type": "code",
      "execution_count": 73,
      "metadata": {
        "id": "NyYiXuA8JHwh"
      },
      "outputs": [],
      "source": [
        "a.age = 'infinito'"
      ]
    },
    {
      "cell_type": "markdown",
      "metadata": {
        "id": "z4M_nIFrJHwh"
      },
      "source": [
        "- Permite **crear atributos de datos** de una instancia, fuera de la definición de la clase."
      ]
    },
    {
      "cell_type": "code",
      "execution_count": 74,
      "metadata": {
        "id": "WZJ7_qyxJHwh"
      },
      "outputs": [],
      "source": [
        "a.size = \"tiny\""
      ]
    },
    {
      "cell_type": "markdown",
      "metadata": {
        "id": "UAxAgpnMJHwh"
      },
      "source": [
        "- Sin embargo, ¡**no es buena práctica** hacer cualquiera de estas!"
      ]
    },
    {
      "cell_type": "markdown",
      "metadata": {
        "id": "9GHDF8tDJHwh"
      },
      "source": [
        "## Argumentos por defecto\n",
        "\n",
        "- Permiten proveer un **valor por defecto** a los parámetros formales si no se pasa ningún parámetro."
      ]
    },
    {
      "cell_type": "code",
      "execution_count": 80,
      "metadata": {
        "id": "MPCiQKE6JHwh"
      },
      "outputs": [],
      "source": [
        "class Animal(object):\n",
        "    def __init__(self, age, name = None):\n",
        "        self.age = age\n",
        "        self.name = None\n",
        "    # Getters\n",
        "    def get_age(self):\n",
        "        return self.age\n",
        "    def get_name(self):\n",
        "        return self.name\n",
        "\n",
        "    # Setters\n",
        "    def set_age(self, newage):\n",
        "        self.age = newage\n",
        "    def set_name(self, newname=\"\"):\n",
        "        self.name = newname\n",
        "\n",
        "    def __str__(self):\n",
        "        return \"animal:\"+str(self.name)+\":\"+str(self.age)"
      ]
    },
    {
      "cell_type": "code",
      "execution_count": 81,
      "metadata": {
        "id": "WG-zoEF8JHwh"
      },
      "outputs": [],
      "source": [
        "def set_name(self, newname=\"\"):\n",
        "    self.name = newname"
      ]
    },
    {
      "cell_type": "markdown",
      "metadata": {
        "id": "Lut5ZUrnJHwh"
      },
      "source": [
        "- Al utilizar el argumento por defecto, podríamos no pasar ningún parámetro."
      ]
    },
    {
      "cell_type": "code",
      "execution_count": 82,
      "metadata": {
        "id": "WGhMKf-4JHwh",
        "outputId": "d045d61f-c60e-4a29-8372-d8a2033f0ddd",
        "colab": {
          "base_uri": "https://localhost:8080/"
        }
      },
      "outputs": [
        {
          "output_type": "stream",
          "name": "stdout",
          "text": [
            "\n"
          ]
        }
      ],
      "source": [
        "a = Animal(3)\n",
        "a.set_name()\n",
        "print(a.get_name())\n",
        "# Imprime \"\""
      ]
    },
    {
      "cell_type": "markdown",
      "metadata": {
        "id": "oCSvt1KNJHwk"
      },
      "source": [
        "- Acá un ejemplo con argumento:"
      ]
    },
    {
      "cell_type": "code",
      "execution_count": 83,
      "metadata": {
        "id": "vUdVC3AcJHwk",
        "outputId": "1e58bc51-b421-4009-86cc-79eb336643c6",
        "colab": {
          "base_uri": "https://localhost:8080/"
        }
      },
      "outputs": [
        {
          "output_type": "stream",
          "name": "stdout",
          "text": [
            "fluffy\n"
          ]
        }
      ],
      "source": [
        "a = Animal(3)\n",
        "a.set_name(\"fluffy\")\n",
        "print(a.get_name())"
      ]
    },
    {
      "cell_type": "markdown",
      "metadata": {
        "id": "k7q--gLPJHwk"
      },
      "source": [
        "- Acá un ejemplo con el parámetro por defecto"
      ]
    },
    {
      "cell_type": "code",
      "execution_count": 84,
      "metadata": {
        "id": "f5FIuSnKJHwk",
        "outputId": "4a274fd3-0b71-422f-c006-1393c03ce5a6",
        "colab": {
          "base_uri": "https://localhost:8080/"
        }
      },
      "outputs": [
        {
          "output_type": "stream",
          "name": "stdout",
          "text": [
            "\n"
          ]
        }
      ],
      "source": [
        "a.set_name()\n",
        "print(a.get_name())"
      ]
    },
    {
      "cell_type": "markdown",
      "metadata": {
        "id": "XBgUTsiGJHwl"
      },
      "source": [
        "# Jerarquías\n",
        "\n",
        "![Jerarquías de la clase `Animal`](https://github.com/PES-BG-2025/notebooks/blob/main/figs/oop/jerarquias.png?raw=1)"
      ]
    },
    {
      "cell_type": "markdown",
      "metadata": {
        "id": "W_--phQwJHwl"
      },
      "source": [
        "![Tipos de vehículos](https://github.com/PES-BG-2025/notebooks/blob/main/figs/oop/vehicle-class.jpeg?raw=1)"
      ]
    },
    {
      "cell_type": "markdown",
      "metadata": {
        "id": "DLvuZK12JHwl"
      },
      "source": [
        "## Jerarquías\n",
        "\n",
        "Las jerarquías definen:  \n",
        "\n",
        "- Una **clase padre**: *superclase*.\n",
        "\n",
        "- Una **clase hija**: *subclase*.\n",
        "    \n",
        "    - **Hereda** todos los atributos y métodos de la clase padre.\n",
        "    \n",
        "    - Es posible **añadir** más atributos.\n",
        "    \n",
        "    - También **más comportamiento**.\n",
        "    \n",
        "    - Es posible **modificar** el comportamiento (*override of methods*).\n",
        "    \n",
        "![Jerarquías de animales](https://github.com/PES-BG-2025/notebooks/blob/main/jerarquias-animales.png?raw=1)"
      ]
    },
    {
      "cell_type": "markdown",
      "metadata": {
        "id": "1Nihe3LjJHwl"
      },
      "source": [
        "## Herencia: la clase padre\n",
        "\n",
        "- Todo es un objeto.\n",
        "\n",
        "- Hereda de la clase `object`.\n",
        "    \n",
        "    - Permite implementar operaciones básicas de Python."
      ]
    },
    {
      "cell_type": "code",
      "execution_count": 85,
      "metadata": {
        "id": "a5PT53xmJHwl"
      },
      "outputs": [],
      "source": [
        "# Clase Animal completa\n",
        "class Animal(object):\n",
        "    def __init__(self, age):\n",
        "        self.age = age\n",
        "        self.name = None\n",
        "    def get_age(self):\n",
        "        return self.age\n",
        "    def get_name(self):\n",
        "        return self.name\n",
        "    def set_age(self, newage):\n",
        "        self.age = newage\n",
        "    def set_name(self, newname=\"\"):\n",
        "        self.name = newname\n",
        "    def __str__(self):\n",
        "        return \"animal:\"+str(self.name)+\":\"+str(self.age)"
      ]
    },
    {
      "cell_type": "markdown",
      "metadata": {
        "id": "ltpJ-3DuJHwl"
      },
      "source": [
        "## Herencia: la clase hija\n",
        "\n",
        "- Agrega funcionalidad con el método `speak()`.\n",
        "    \n",
        "    - Instancia de tipo `Cat` puede ser llamada con nuevos métodos.\n",
        "    \n",
        "    - Instancia de tipo `Animal` **arroja un error** si se llama con el núevo método de `Cat`.\n",
        "    \n",
        "- El método `__init__` no falta, **utiliza** la versión de la clase `Animal`."
      ]
    },
    {
      "cell_type": "code",
      "execution_count": 88,
      "metadata": {
        "id": "8JOL9ZDpJHwl"
      },
      "outputs": [],
      "source": [
        "class Cat(Animal):\n",
        "    def speak(self):\n",
        "        print(\"meow\")  # no tiene constructor\n",
        "    def __str__(self):\n",
        "        return \"cat:\"+str(self.name)+\":\"+str(self.age)"
      ]
    },
    {
      "cell_type": "markdown",
      "metadata": {
        "id": "VaknadToJHwl"
      },
      "source": [
        "***Note cómo se modifica el método `__str__`***."
      ]
    },
    {
      "cell_type": "code",
      "execution_count": 23,
      "metadata": {
        "id": "nBS2Hd89JHwl",
        "outputId": "1dd7b182-2162-481d-8250-26754668cc8d",
        "colab": {
          "base_uri": "https://localhost:8080/"
        }
      },
      "outputs": [
        {
          "output_type": "stream",
          "name": "stdout",
          "text": [
            "cat:fluffy:5\n"
          ]
        }
      ],
      "source": [
        "c = Cat(5)\n",
        "c.set_name(\"fluffy\")\n",
        "print(c)"
      ]
    },
    {
      "cell_type": "code",
      "execution_count": 24,
      "metadata": {
        "id": "7WJW4VAJJHwm",
        "outputId": "7f5cfe51-0510-4372-a2b9-f988061b49c5",
        "colab": {
          "base_uri": "https://localhost:8080/"
        }
      },
      "outputs": [
        {
          "output_type": "stream",
          "name": "stdout",
          "text": [
            "meow\n"
          ]
        }
      ],
      "source": [
        "c.speak()"
      ]
    },
    {
      "cell_type": "code",
      "execution_count": 25,
      "metadata": {
        "id": "X3ca4uEyJHwm",
        "outputId": "9c02dea4-6a35-4ba9-82a4-8fabdfa613b2",
        "colab": {
          "base_uri": "https://localhost:8080/"
        }
      },
      "outputs": [
        {
          "output_type": "stream",
          "name": "stdout",
          "text": [
            "5\n"
          ]
        }
      ],
      "source": [
        "print(c.get_age())"
      ]
    },
    {
      "cell_type": "markdown",
      "metadata": {
        "id": "KU69rR2AJHwm"
      },
      "source": [
        "## ¿Qué método utilizar?\n",
        "\n",
        "- La subclase puede tener **métodos con el mismo nombre** que la superclase.\n",
        "\n",
        "- Una instancia busca el método en la definición de su **clase actual**.\n",
        "\n",
        "- Si no encuentra el método, busca **hacia arriba en la jerarquía**.\n",
        "    - En la clase padre, clase \"abuelo\", etc.\n",
        "\n",
        "- Utiliza el **primer método** en la jerarquía que contenga el nombre invocado."
      ]
    },
    {
      "cell_type": "code",
      "execution_count": 26,
      "metadata": {
        "id": "EqxcxwICJHwm"
      },
      "outputs": [],
      "source": [
        "class Person(Animal):\n",
        "    def __init__(self, name, age):\n",
        "        Animal.__init__(self, age)\n",
        "        self.set_name(name)\n",
        "        self.friends = []\n",
        "    def get_friends(self):\n",
        "        return self.friends\n",
        "    def speak(self):\n",
        "        print(\"hello\")\n",
        "    def add_friend(self, fname):\n",
        "        if fname not in self.friends:\n",
        "            self.friends.append(fname)\n",
        "    def age_diff(self, other):\n",
        "        diff = self.age - other.age\n",
        "        print(abs(diff), \"year difference\")\n",
        "    def __str__(self):\n",
        "        return \"person:\"+str(self.name)+\":\"+str(self.age)"
      ]
    },
    {
      "cell_type": "markdown",
      "metadata": {
        "id": "g1LlrNFKJHwm"
      },
      "source": [
        "- ***¿Cuál es la diferencia en el método constructor?***\n",
        "\n",
        "- ***¿Cuáles son los nuevos métodos de esta clase?***\n",
        "\n",
        "- ***¿Se sobreescribe (modifica) algún método?***"
      ]
    },
    {
      "cell_type": "code",
      "execution_count": 27,
      "metadata": {
        "id": "4dWEkcxvJHwm",
        "outputId": "9c106804-a624-428f-83db-849e86610fcc",
        "colab": {
          "base_uri": "https://localhost:8080/"
        }
      },
      "outputs": [
        {
          "output_type": "stream",
          "name": "stdout",
          "text": [
            "jack 30\n",
            "jill 25\n"
          ]
        }
      ],
      "source": [
        "# Pruebas de Person\n",
        "p1 = Person(\"jack\", 30)\n",
        "p2 = Person(\"jill\", 25)\n",
        "\n",
        "print(p1.get_name(), p1.get_age())\n",
        "print(p2.get_name(), p2.get_age())"
      ]
    },
    {
      "cell_type": "code",
      "execution_count": 28,
      "metadata": {
        "id": "9L6eu9v3JHwm",
        "outputId": "ff701e1a-9f8b-4eda-c6a9-2553026dd690",
        "colab": {
          "base_uri": "https://localhost:8080/"
        }
      },
      "outputs": [
        {
          "output_type": "stream",
          "name": "stdout",
          "text": [
            "person:jack:30\n"
          ]
        }
      ],
      "source": [
        "print(p1)"
      ]
    },
    {
      "cell_type": "code",
      "execution_count": 29,
      "metadata": {
        "id": "EArVtI8RJHwm",
        "outputId": "a3884785-4ccb-47b5-a2f5-1824906ed6d0",
        "colab": {
          "base_uri": "https://localhost:8080/"
        }
      },
      "outputs": [
        {
          "output_type": "stream",
          "name": "stdout",
          "text": [
            "hello\n"
          ]
        }
      ],
      "source": [
        "p1.speak()"
      ]
    },
    {
      "cell_type": "code",
      "execution_count": 30,
      "metadata": {
        "id": "hq8pxIqSJHwm",
        "outputId": "7b438edd-6c04-4088-e431-63efc9a7f6c8",
        "colab": {
          "base_uri": "https://localhost:8080/"
        }
      },
      "outputs": [
        {
          "output_type": "stream",
          "name": "stdout",
          "text": [
            "5 year difference\n"
          ]
        }
      ],
      "source": [
        "p1.age_diff(p2)"
      ]
    },
    {
      "cell_type": "markdown",
      "metadata": {
        "id": "YxkLL_KwJHwm"
      },
      "source": [
        "## Ejemplo: clase nieto"
      ]
    },
    {
      "cell_type": "code",
      "execution_count": 31,
      "metadata": {
        "id": "tPn6H-R1JHwm"
      },
      "outputs": [],
      "source": [
        "import random\n",
        "\n",
        "class Student(Person):\n",
        "    def __init__(self, name, age, major=None):\n",
        "        Person.__init__(self, name, age)\n",
        "        self.major = major\n",
        "    def __str__(self):\n",
        "        return \"student:\"+str(self.name)+\":\"+str(self.age)+\":\"+str(self.major)\n",
        "    def change_major(self, major):\n",
        "        self.major = major\n",
        "    def speak(self):\n",
        "        r = random.random()\n",
        "        if r < 0.25:\n",
        "            print(\"i have homework\")\n",
        "        elif 0.25 <= r < 0.5:\n",
        "            print(\"i need sleep\")\n",
        "        elif 0.5 <= r < 0.75:\n",
        "            print(\"i should eat\")\n",
        "        else:\n",
        "            print(\"i am watching tv\")"
      ]
    },
    {
      "cell_type": "markdown",
      "metadata": {
        "id": "hnq7QSMNJHwn"
      },
      "source": [
        "- ***¿De qué clase hereda ahora `Student`?***\n",
        "\n",
        "- ***¿Por qué se realiza `import random`?***\n",
        "\n",
        "- ***¿Se agrega algún atributo?***\n",
        "\n",
        "- ***¿Se sobreescribe (modifica) algún método?***"
      ]
    },
    {
      "cell_type": "code",
      "execution_count": 32,
      "metadata": {
        "id": "0qzyabsBJHwn",
        "outputId": "38524c43-c2cf-4b57-bcaf-0fe3fb4814f3",
        "colab": {
          "base_uri": "https://localhost:8080/"
        }
      },
      "outputs": [
        {
          "output_type": "stream",
          "name": "stdout",
          "text": [
            "student:alice:20:CS\n",
            "student:beth:18:None\n"
          ]
        }
      ],
      "source": [
        "# Pruebas de Student\n",
        "s1 = Student('alice', age=20, major=\"CS\")\n",
        "s2 = Student('beth', age=18)\n",
        "\n",
        "print(s1)\n",
        "print(s2)"
      ]
    },
    {
      "cell_type": "code",
      "execution_count": 33,
      "metadata": {
        "id": "cZPcRq3jJHwn",
        "outputId": "e56ffbd4-e898-4e1c-b6dd-8014385c3800",
        "colab": {
          "base_uri": "https://localhost:8080/"
        }
      },
      "outputs": [
        {
          "output_type": "stream",
          "name": "stdout",
          "text": [
            "alice says: i have homework\n"
          ]
        }
      ],
      "source": [
        "print(s1.get_name(),\"says:\", end=\" \")\n",
        "s1.speak()"
      ]
    },
    {
      "cell_type": "code",
      "execution_count": 34,
      "metadata": {
        "id": "5of22AnNJHwn",
        "outputId": "5054dc5c-fa9e-4581-a199-357b89266231",
        "colab": {
          "base_uri": "https://localhost:8080/"
        }
      },
      "outputs": [
        {
          "output_type": "stream",
          "name": "stdout",
          "text": [
            "beth says: i should eat\n"
          ]
        }
      ],
      "source": [
        "print(s2.get_name(),\"says:\", end=\" \")\n",
        "s2.speak()"
      ]
    },
    {
      "cell_type": "markdown",
      "metadata": {
        "id": "hE20OQTrJHwn"
      },
      "source": [
        "# Variables de clase\n",
        "\n",
        "- Sus valores se **comparten** entre todas las instancias de una clase."
      ]
    },
    {
      "cell_type": "code",
      "execution_count": 35,
      "metadata": {
        "id": "Ok0BDytxJHwn"
      },
      "outputs": [],
      "source": [
        "class Rabbit(Animal):\n",
        "    # a class variable, tag, shared across all instances\n",
        "    tag = 1\n",
        "    def __init__(self, age, parent1=None, parent2=None):\n",
        "        Animal.__init__(self, age)\n",
        "        self.parent1 = parent1\n",
        "        self.parent2 = parent2\n",
        "        self.rid = Rabbit.tag\n",
        "        Rabbit.tag += 1"
      ]
    },
    {
      "cell_type": "markdown",
      "metadata": {
        "id": "Z-pRxiI0JHwn"
      },
      "source": [
        "- Utilizamos `tag` para dar un **identificador único** a cada instancia de `Rabbit`.\n",
        "- ¿Cuál es la diferencia entre una **variable de instancia** y una **variable de clase**?\n",
        "    - Al incrementar la variable de clase, cambia para **todas las instancias** de la clase."
      ]
    },
    {
      "cell_type": "code",
      "execution_count": 36,
      "metadata": {
        "id": "FIgb8jqBJHwn",
        "outputId": "8f6419e7-dfbc-4a84-b0ee-1fe0d1eb2b8e",
        "colab": {
          "base_uri": "https://localhost:8080/"
        }
      },
      "outputs": [
        {
          "output_type": "stream",
          "name": "stdout",
          "text": [
            "r1: animal:None:3\n",
            "r2: animal:None:4\n"
          ]
        }
      ],
      "source": [
        "# Prueba de conejos\n",
        "r1 = Rabbit(3)\n",
        "r2 = Rabbit(4)\n",
        "\n",
        "print(\"r1:\", r1)\n",
        "print(\"r2:\", r2)"
      ]
    },
    {
      "cell_type": "code",
      "execution_count": 37,
      "metadata": {
        "id": "UOD6JgKoJHwn",
        "outputId": "faa34b03-cfe6-4c13-bed1-74074840e492",
        "colab": {
          "base_uri": "https://localhost:8080/"
        }
      },
      "outputs": [
        {
          "output_type": "execute_result",
          "data": {
            "text/plain": [
              "3"
            ]
          },
          "metadata": {},
          "execution_count": 37
        }
      ],
      "source": [
        "#tag se queda en el valor\n",
        "r1.tag"
      ]
    },
    {
      "cell_type": "code",
      "execution_count": 38,
      "metadata": {
        "id": "QADyya9HJHwn",
        "outputId": "9c59c898-260d-4ccd-ef7a-2bbaff78bf19",
        "colab": {
          "base_uri": "https://localhost:8080/"
        }
      },
      "outputs": [
        {
          "output_type": "execute_result",
          "data": {
            "text/plain": [
              "3"
            ]
          },
          "metadata": {},
          "execution_count": 38
        }
      ],
      "source": [
        "# de forma global\n",
        "r2.tag"
      ]
    },
    {
      "cell_type": "markdown",
      "metadata": {
        "id": "hPivHHHGJHwn"
      },
      "source": [
        "## Métodos *getter* para `Rabbit`\n",
        "- `get_rid()`: devuelve el ID del conejo.\n",
        "- `get_parent1()` y `get_parent2()` devuelven a los padres del conejo."
      ]
    },
    {
      "cell_type": "code",
      "execution_count": 39,
      "metadata": {
        "id": "EXKYtg1NJHwn"
      },
      "outputs": [],
      "source": [
        "class Rabbit(Animal):\n",
        "    # a class variable, tag, shared across all instances\n",
        "    tag = 1\n",
        "    def __init__(self, age, parent1=None, parent2=None):\n",
        "        Animal.__init__(self, age)\n",
        "        self.parent1 = parent1\n",
        "        self.parent2 = parent2\n",
        "        self.rid = Rabbit.tag\n",
        "        Rabbit.tag += 1\n",
        "    def get_rid(self):\n",
        "        # zfill used to add leading zeroes 001 instead of 1\n",
        "        return str(self.rid).zfill(3)\n",
        "    def get_parent1(self):\n",
        "        return self.parent1\n",
        "    def get_parent2(self):\n",
        "        return self.parent2"
      ]
    },
    {
      "cell_type": "markdown",
      "metadata": {
        "id": "MjQHqTtyJHwo"
      },
      "source": [
        "- Recordemos que `get_name()` y `get_age()` fueron heredados de la clase `Animal`."
      ]
    },
    {
      "cell_type": "markdown",
      "metadata": {
        "id": "YeJbbKXDJHwo"
      },
      "source": [
        "## Creando un operador para `Rabbit`\n",
        "- Definimos el operador `+` entre dos instancias de `Rabbit`.\n",
        "    \n",
        "    - Si `r1` y `r2` son instancias de `Rabbit`: `r4 = r1 + r2` definen un conejo con padres `r1` y `r2`.\n",
        "    \n",
        "    - Se define al conejo `r4` con edad inicial cero.\n",
        "    \n",
        "    - Un padre es `self` y el otro es `other`.\n",
        "    \n",
        "    - Recordemos que en `__init__`, `parent1` y `parent2` son de tipo `Rabbit`."
      ]
    },
    {
      "cell_type": "code",
      "execution_count": 40,
      "metadata": {
        "id": "EGa1RdI0JHwo"
      },
      "outputs": [],
      "source": [
        "def __add__(self, other):\n",
        "    # returning object of same type as this class\n",
        "    return Rabbit(0, self, other)"
      ]
    },
    {
      "cell_type": "code",
      "execution_count": 41,
      "metadata": {
        "id": "BujTH6vEJHwo"
      },
      "outputs": [],
      "source": [
        "# Esta es parcial, para probar la clase Rabbit con el método __add__\n",
        "class Rabbit(Animal):\n",
        "    # a class variable, tag, shared across all instances\n",
        "    tag = 1\n",
        "    def __init__(self, age, parent1=None, parent2=None):\n",
        "        Animal.__init__(self, age)\n",
        "        self.parent1 = parent1\n",
        "        self.parent2 = parent2\n",
        "        self.rid = Rabbit.tag\n",
        "        Rabbit.tag += 1\n",
        "    def get_rid(self):\n",
        "        # zfill used to add leading zeroes 001 instead of 1\n",
        "        return str(self.rid).zfill(3)\n",
        "    def get_parent1(self):\n",
        "        return self.parent1\n",
        "    def get_parent2(self):\n",
        "        return self.parent2\n",
        "    def __add__(self, other):\n",
        "        # returning object of same type as this class\n",
        "        return Rabbit(0, self, other)"
      ]
    },
    {
      "cell_type": "code",
      "execution_count": 42,
      "metadata": {
        "id": "gYQcrOusJHwo"
      },
      "outputs": [],
      "source": [
        "# Prueba de conejos\n",
        "r1 = Rabbit(3)\n",
        "r2 = Rabbit(4)"
      ]
    },
    {
      "cell_type": "code",
      "execution_count": 43,
      "metadata": {
        "id": "Ro0NupH2JHwo"
      },
      "outputs": [],
      "source": [
        "r4 = r1 + r2"
      ]
    },
    {
      "cell_type": "code",
      "execution_count": 44,
      "metadata": {
        "id": "tMsUd11BJHwo",
        "outputId": "7e860e8c-2a6d-4a8c-a2f7-b30a00ff9450",
        "colab": {
          "base_uri": "https://localhost:8080/"
        }
      },
      "outputs": [
        {
          "output_type": "execute_result",
          "data": {
            "text/plain": [
              "<__main__.Rabbit at 0x7863619e3440>"
            ]
          },
          "metadata": {},
          "execution_count": 44
        }
      ],
      "source": [
        "r4.get_parent1()"
      ]
    },
    {
      "cell_type": "code",
      "execution_count": 45,
      "metadata": {
        "id": "YmvphvKBJHwo",
        "outputId": "3eaa9d14-a684-41f0-fafb-644f6e46ec9e",
        "colab": {
          "base_uri": "https://localhost:8080/"
        }
      },
      "outputs": [
        {
          "output_type": "execute_result",
          "data": {
            "text/plain": [
              "<__main__.Rabbit at 0x7863619d4b00>"
            ]
          },
          "metadata": {},
          "execution_count": 45
        }
      ],
      "source": [
        "r4.get_parent2()"
      ]
    },
    {
      "cell_type": "markdown",
      "metadata": {
        "id": "VrFRrt73JHwo"
      },
      "source": [
        "## Método para comparar dos `Rabbit`\n",
        "\n",
        "- Vamos a decidir que dos conejos son iguales si **tienen a los mismos padres**."
      ]
    },
    {
      "cell_type": "code",
      "execution_count": 46,
      "metadata": {
        "id": "HppjcAxJJHwo"
      },
      "outputs": [],
      "source": [
        "def __eq__(self, other):\n",
        "    # compare the ids of self and other's parents\n",
        "    # don't care about the order of the parents\n",
        "    # the backslash tells python I want to break up my line\n",
        "    parents_same = self.parent1.rid == other.parent1.rid \\\n",
        "                   and self.parent2.rid == other.parent2.rid\n",
        "\n",
        "    parents_opposite = self.parent2.rid == other.parent1.rid \\\n",
        "                       and self.parent1.rid == other.parent2.rid\n",
        "\n",
        "    return parents_same or parents_opposite"
      ]
    },
    {
      "cell_type": "markdown",
      "metadata": {
        "id": "up_2n-xeJHwo"
      },
      "source": [
        "- Comparamos los IDs de los padres, ya que estos son únicos debido a **las variables de clase**.\n",
        "\n",
        "- Notar que no es posible comparar a los objetos padres directamente.\n",
        "    - Por ejemplo: `self.parent1 == other.parent1`\n",
        "    - Esto llamaría a `__eq__` hacia los padres de los conejos, hasta eventualmente obtener `None`, lo cual provocaría `AtributeError` al intentar hacer `None.parent1`."
      ]
    },
    {
      "cell_type": "code",
      "execution_count": 47,
      "metadata": {
        "id": "XWzFoNy7JHwo"
      },
      "outputs": [],
      "source": [
        "# Clase completa de Rabbit y ejemplos\n",
        "class Rabbit(Animal):\n",
        "    # a class variable, tag, shared across all instances\n",
        "    tag = 1\n",
        "    def __init__(self, age, parent1=None, parent2=None):\n",
        "        Animal.__init__(self, age)\n",
        "        self.parent1 = parent1\n",
        "        self.parent2 = parent2\n",
        "        self.rid = Rabbit.tag\n",
        "        Rabbit.tag += 1\n",
        "    def get_rid(self):\n",
        "        # zfill used to add leading zeroes 001 instead of 1\n",
        "        return str(self.rid).zfill(3)\n",
        "    def get_parent1(self):\n",
        "        return self.parent1\n",
        "    def get_parent2(self):\n",
        "        return self.parent2\n",
        "    def __add__(self, other):\n",
        "        # returning object of same type as this class\n",
        "        return Rabbit(0, self, other)\n",
        "    def __eq__(self, other):\n",
        "        # compare the ids of self and other's parents\n",
        "        # don't care about the order of the parents\n",
        "        # the backslash tells python I want to break up my line\n",
        "        parents_same = self.parent1.rid == other.parent1.rid \\\n",
        "                       and self.parent2.rid == other.parent2.rid\n",
        "        parents_opposite = self.parent2.rid == other.parent1.rid \\\n",
        "                           and self.parent1.rid == other.parent2.rid\n",
        "        return parents_same or parents_opposite\n",
        "    def __str__(self):\n",
        "        return \"rabbit:\"+ self.get_rid()"
      ]
    },
    {
      "cell_type": "code",
      "execution_count": 48,
      "metadata": {
        "id": "W82W3oKfJHwo"
      },
      "outputs": [],
      "source": [
        "# Creando instancias de Rabbit\n",
        "r1 = Rabbit(3)\n",
        "r2 = Rabbit(4)\n",
        "r3 = Rabbit(5)"
      ]
    },
    {
      "cell_type": "code",
      "execution_count": 49,
      "metadata": {
        "id": "dLdop9zxJHwo",
        "outputId": "34d79497-4af5-429a-f36e-3d22a8a8cf7c",
        "colab": {
          "base_uri": "https://localhost:8080/"
        }
      },
      "outputs": [
        {
          "output_type": "stream",
          "name": "stdout",
          "text": [
            "r1: rabbit:001\n",
            "r2: rabbit:002\n",
            "r3: rabbit:003\n"
          ]
        }
      ],
      "source": [
        "print(\"r1:\", r1)\n",
        "print(\"r2:\", r2)\n",
        "print(\"r3:\", r3)"
      ]
    },
    {
      "cell_type": "code",
      "execution_count": 50,
      "metadata": {
        "id": "dA_3j9auJHwp",
        "outputId": "c7ee66c7-3b97-4c33-a7c1-e34a0fd45401",
        "colab": {
          "base_uri": "https://localhost:8080/"
        }
      },
      "outputs": [
        {
          "output_type": "stream",
          "name": "stdout",
          "text": [
            "r1 parent1: None\n",
            "r1 parent2: None\n"
          ]
        }
      ],
      "source": [
        "print(\"r1 parent1:\", r1.get_parent1())\n",
        "print(\"r1 parent2:\", r1.get_parent2())"
      ]
    },
    {
      "cell_type": "code",
      "execution_count": 51,
      "metadata": {
        "id": "ltVs4P3yJHwp",
        "outputId": "37e5c3ea-b5e6-4dca-e7a4-e4705d550334",
        "colab": {
          "base_uri": "https://localhost:8080/"
        }
      },
      "outputs": [
        {
          "output_type": "stream",
          "name": "stdout",
          "text": [
            "r4 parent1: rabbit:001\n",
            "r4 parent2: rabbit:002\n"
          ]
        }
      ],
      "source": [
        "r4 = r1+r2\n",
        "print(\"r4 parent1:\", r4.get_parent1())\n",
        "print(\"r4 parent2:\", r4.get_parent2())"
      ]
    },
    {
      "cell_type": "code",
      "execution_count": 52,
      "metadata": {
        "id": "VL1CYX_pJHwp",
        "outputId": "9a934a68-1c34-4197-8a84-f897866f2556",
        "colab": {
          "base_uri": "https://localhost:8080/"
        }
      },
      "outputs": [
        {
          "output_type": "stream",
          "name": "stdout",
          "text": [
            "r5 parent1: rabbit:003\n",
            "r5 parent2: rabbit:004\n",
            "r6 parent1: rabbit:004\n",
            "r6 parent2: rabbit:003\n"
          ]
        }
      ],
      "source": [
        "# Probando igualdad de conejos\n",
        "r5 = r3+r4\n",
        "r6 = r4+r3\n",
        "\n",
        "print(\"r5 parent1:\", r5.get_parent1())\n",
        "print(\"r5 parent2:\", r5.get_parent2())\n",
        "print(\"r6 parent1:\", r6.get_parent1())\n",
        "print(\"r6 parent2:\", r6.get_parent2())"
      ]
    },
    {
      "cell_type": "code",
      "execution_count": 53,
      "metadata": {
        "id": "_-ShgWwoJHwp",
        "outputId": "9f141071-4c13-4637-8ac7-59ff884d26bc",
        "colab": {
          "base_uri": "https://localhost:8080/"
        }
      },
      "outputs": [
        {
          "output_type": "stream",
          "name": "stdout",
          "text": [
            "r5 and r6 have same parents? True\n",
            "r4 and r6 have same parents? False\n"
          ]
        }
      ],
      "source": [
        "print(\"r5 and r6 have same parents?\", r5 == r6)\n",
        "print(\"r4 and r6 have same parents?\", r4 == r6)"
      ]
    },
    {
      "cell_type": "markdown",
      "metadata": {
        "id": "Lmr0tBcmJHwp"
      },
      "source": [
        "## Programación orientada a objetos (OOP)\n",
        "\n",
        "- Permite crear una **colección** y **organización** de datos personalizada.\n",
        "- **Divide** el trabajo entre varios objetos similares.\n",
        "- Permite acceder a la información de una manera **consistente**.\n",
        "- Permite añadir la complejidad por **capas**.\n",
        "- Como las funciones:\n",
        "    - Permiten crear **descomposición** y **abstracción**.\n",
        "    - **Modularizar** los programas."
      ]
    },
    {
      "cell_type": "markdown",
      "metadata": {
        "id": "0hNtrtb7JHwp"
      },
      "source": [
        "## Fin\n",
        "\n",
        "![OOP](https://github.com/PES-BG-2025/notebooks/blob/main/figs/oop/oop-logo.png?raw=1)"
      ]
    }
  ],
  "metadata": {
    "celltoolbar": "Slideshow",
    "kernelspec": {
      "display_name": "base",
      "language": "python",
      "name": "python3"
    },
    "language_info": {
      "codemirror_mode": {
        "name": "ipython",
        "version": 3
      },
      "file_extension": ".py",
      "mimetype": "text/x-python",
      "name": "python",
      "nbconvert_exporter": "python",
      "pygments_lexer": "ipython3",
      "version": "3.13.5"
    },
    "colab": {
      "provenance": []
    }
  },
  "nbformat": 4,
  "nbformat_minor": 0
}